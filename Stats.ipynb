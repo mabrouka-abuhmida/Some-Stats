{
 "cells": [
  {
   "cell_type": "markdown",
   "metadata": {},
   "source": [
    "Descriptive Statistics\n",
    "Exercise: Given a dataset of student scores in two subjects, calculate the mean, median, mode, and range."
   ]
  },
  {
   "cell_type": "code",
   "execution_count": null,
   "metadata": {},
   "outputs": [],
   "source": [
    "import pandas as pd\n",
    "\n",
    "# Sample data\n",
    "data = {'Math Score': [14, 19, 13, 9, 13],\n",
    "        'Reading Score': [25, 37, 26, 20, 19]}\n",
    "df = pd.DataFrame(data)\n",
    "\n",
    "# Descriptive statistics\n",
    "mean = \n",
    "median = \n",
    "mode = df.mode().iloc[0]  # Mode can return multiple values, we use the first one\n",
    "range_ = df.max() - df.min()\n",
    "\n",
    "# Display results\n",
    "print(\"Mean:\\n\", mean)\n",
    "print(\"\\nMedian:\\n\", median)\n",
    "print(\"\\nMode:\\n\", mode)\n",
    "print(\"\\nRange:\\n\", range_)\n"
   ]
  },
  {
   "cell_type": "markdown",
   "metadata": {},
   "source": [
    " Variance and Standard Deviation\n",
    "Exercise: Given a set of scores, calculate the variance and standard deviation."
   ]
  },
  {
   "cell_type": "code",
   "execution_count": null,
   "metadata": {},
   "outputs": [],
   "source": [
    "data = [2, 9, 7, 5, 3, 1]\n",
    "\n",
    "mean = np.mean(data)\n",
    "variance =  # Using ddof=1 for sample variance\n",
    "std_deviation = \n",
    "\n",
    "print(\"Mean:\", mean)\n",
    "print(\"Variance:\", variance)\n",
    "print(\"Standard Deviation:\", std_deviation)\n"
   ]
  },
  {
   "cell_type": "markdown",
   "metadata": {},
   "source": [
    "Percentiles and Quartiles\n",
    "Exercise: Using a dataset of exam scores, calculate the 10th, 50th, and 90th percentiles as well as the 1st and 3rd quartiles."
   ]
  },
  {
   "cell_type": "code",
   "execution_count": null,
   "metadata": {},
   "outputs": [],
   "source": [
    "# Sample data\n",
    "exam_scores = [42, 37, 55, 65, 23, 79, 85, 40, 50, 30]\n",
    "\n",
    "# Percentiles\n",
    "percentiles = \n",
    "quartiles = \n",
    "\n",
    "print(\"10th, 50th, 90th Percentiles:\", percentiles)\n",
    "print(\"1st and 3rd Quartiles:\", quartiles)\n"
   ]
  },
  {
   "cell_type": "markdown",
   "metadata": {},
   "source": [
    "Normal Distribution\n",
    "Exercise: Suppose that exam scores are normally distributed with a mean of 50 and standard deviation of 10. Calculate the percentage of students scoring:\n",
    "\n",
    "Below 50\n",
    "Above 60\n",
    "Between 40 and 60"
   ]
  },
  {
   "cell_type": "code",
   "execution_count": null,
   "metadata": {},
   "outputs": [],
   "source": [
    "from scipy.stats import norm\n",
    "\n",
    "mean = 50\n",
    "std_dev = 10\n",
    "\n",
    "# P(X < 50)\n",
    "below_50 = \n",
    "\n",
    "# P(X > 60)\n",
    "above_60 = \n",
    "\n",
    "# P(40 < X < 60)\n",
    "between_40_60 = \n",
    "\n",
    "print(f\"Below 50: {below_50*100:.2f}%\")\n",
    "print(f\"Above 60: {above_60*100:.2f}%\")\n",
    "print(f\"Between 40 and 60: {between_40_60*100:.2f}%\")\n"
   ]
  },
  {
   "cell_type": "markdown",
   "metadata": {},
   "source": [
    "Z-Scores\n",
    "Exercise: Calculate Z-scores for the following students' scores:\n",
    "\n",
    "Alice: 45\n",
    "Bob: 48\n",
    "Chloe: 38\n",
    "Dave: 35 Mean score: 42, Standard Deviation: 3"
   ]
  },
  {
   "cell_type": "code",
   "execution_count": null,
   "metadata": {},
   "outputs": [],
   "source": [
    "scores = [45, 48, 38, 35]\n",
    "mean = 42\n",
    "std_dev = 3\n",
    "\n",
    "# Z-scores\n",
    "z_scores = \n",
    "print(\"Z-scores:\", z_scores)\n"
   ]
  },
  {
   "cell_type": "markdown",
   "metadata": {},
   "source": [
    "Correlation Coefficients\n",
    "Exercise: Calculate the Pearson correlation coefficient between two variables: Attendance and Exam Results."
   ]
  },
  {
   "cell_type": "code",
   "execution_count": null,
   "metadata": {},
   "outputs": [],
   "source": [
    "# Sample data\n",
    "data = {'Attendance': [75, 78, 88, 80, 78],\n",
    "        'Result': [37, 41, 48, 32, 36]}\n",
    "\n",
    "df = pd.DataFrame(data)\n",
    "\n",
    "# Pearson correlation\n",
    "correlation = \n",
    "print(\"Correlation matrix:\\n\", correlation)\n"
   ]
  }
 ],
 "metadata": {
  "kernelspec": {
   "display_name": "Python 3",
   "language": "python",
   "name": "python3"
  },
  "language_info": {
   "codemirror_mode": {
    "name": "ipython",
    "version": 3
   },
   "file_extension": ".py",
   "mimetype": "text/x-python",
   "name": "python",
   "nbconvert_exporter": "python",
   "pygments_lexer": "ipython3",
   "version": "3.12.6"
  }
 },
 "nbformat": 4,
 "nbformat_minor": 2
}
